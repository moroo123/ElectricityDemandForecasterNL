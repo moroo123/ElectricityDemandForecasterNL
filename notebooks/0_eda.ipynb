{
  "cells": [
    {
      "cell_type": "markdown",
      "metadata": {
        "id": "HfLEIG0IDLK6"
      },
      "source": [
        "## One week energy demand forecast of the Netherlands"
      ]
    },
    {
      "cell_type": "markdown",
      "metadata": {
        "id": "JuW3qkDZDbVK"
      },
      "source": [
        "In this project we want to predict the energy demand of the Netherlands for one week. First we will try a simple LSTM using the following data:\n",
        "- historical energy demand data\n",
        "- historical and future weather data\n",
        "- special event data (e.g. public holidays)"
      ]
    },
    {
      "cell_type": "markdown",
      "metadata": {
        "id": "1TM-i1ufELes"
      },
      "source": [
        "## Historical electricity demand data\n",
        "\n"
      ]
    },
    {
      "cell_type": "markdown",
      "metadata": {
        "id": "N92ti1ymXrr3"
      },
      "source": [
        "### Data collection\n",
        "For the historical electricity demand data we can use publicly available data from entso-e.eu that collects and publishes electricity generation and consumption data. To start we can download energy demand data from https://data.open-power-system-data.org/time_series/ (15 min frequency) as SQL databases.\n",
        "\n",
        "To run this notebook, download the database and save it in the data/raw folder"
      ]
    },
    {
      "cell_type": "markdown",
      "metadata": {
        "id": "thz30U37NhsT"
      },
      "source": [
        "Let's load the electricity demand data"
      ]
    },
    {
      "cell_type": "code",
      "execution_count": 52,
      "metadata": {
        "colab": {
          "base_uri": "https://localhost:8080/"
        },
        "id": "NLmpp3CVG4Yn",
        "outputId": "9f75fc71-af41-46e1-c8da-9efedd1fcd5d"
      },
      "outputs": [
        {
          "name": "stdout",
          "output_type": "stream",
          "text": [
            "Tables found in database:\n",
            "- time_series_15min_singleindex\n",
            "- time_series_30min_singleindex\n",
            "- time_series_60min_singleindex\n"
          ]
        }
      ],
      "source": [
        "import sqlite3\n",
        "\n",
        "connection = sqlite3.connect('../data/raw/time_series.sqlite')\n",
        "\n",
        "cursor = connection.cursor()\n",
        "\n",
        "cursor.execute(\"SELECT name FROM sqlite_master WHERE type='table';\")\n",
        "tables = cursor.fetchall()\n",
        "\n",
        "print(\"Tables found in database:\")\n",
        "for t in tables:\n",
        "    print(\"-\", t[0])\n",
        "\n",
        "# connection.close()"
      ]
    },
    {
      "cell_type": "code",
      "execution_count": 53,
      "metadata": {
        "colab": {
          "base_uri": "https://localhost:8080/"
        },
        "id": "ay1ZDiuuRtB5",
        "outputId": "363ee617-9260-4188-ffb3-c52707f2c940"
      },
      "outputs": [
        {
          "name": "stdout",
          "output_type": "stream",
          "text": [
            "Columns in table:\n",
            "- utc_timestamp\n",
            "- cet_cest_timestamp\n",
            "- AT_load_actual_entsoe_transparency\n",
            "- AT_load_forecast_entsoe_transparency\n",
            "- AT_price_day_ahead\n",
            "- AT_solar_generation_actual\n",
            "- AT_wind_onshore_generation_actual\n",
            "- BE_load_actual_entsoe_transparency\n",
            "- BE_load_forecast_entsoe_transparency\n",
            "- DE_load_actual_entsoe_transparency\n",
            "- DE_load_forecast_entsoe_transparency\n",
            "- DE_solar_capacity\n",
            "- DE_solar_generation_actual\n",
            "- DE_solar_profile\n",
            "- DE_wind_capacity\n",
            "- DE_wind_generation_actual\n",
            "- DE_wind_profile\n",
            "- DE_wind_offshore_capacity\n",
            "- DE_wind_offshore_generation_actual\n",
            "- DE_wind_offshore_profile\n",
            "- DE_wind_onshore_capacity\n",
            "- DE_wind_onshore_generation_actual\n",
            "- DE_wind_onshore_profile\n",
            "- DE_50hertz_load_actual_entsoe_transparency\n",
            "- DE_50hertz_load_forecast_entsoe_transparency\n",
            "- DE_50hertz_solar_generation_actual\n",
            "- DE_50hertz_wind_generation_actual\n",
            "- DE_50hertz_wind_offshore_generation_actual\n",
            "- DE_50hertz_wind_onshore_generation_actual\n",
            "- DE_LU_load_actual_entsoe_transparency\n",
            "- DE_LU_load_forecast_entsoe_transparency\n",
            "- DE_LU_solar_generation_actual\n",
            "- DE_LU_wind_generation_actual\n",
            "- DE_LU_wind_offshore_generation_actual\n",
            "- DE_LU_wind_onshore_generation_actual\n",
            "- DE_amprion_load_actual_entsoe_transparency\n",
            "- DE_amprion_load_forecast_entsoe_transparency\n",
            "- DE_amprion_solar_generation_actual\n",
            "- DE_amprion_wind_onshore_generation_actual\n",
            "- DE_tennet_load_actual_entsoe_transparency\n",
            "- DE_tennet_load_forecast_entsoe_transparency\n",
            "- DE_tennet_solar_generation_actual\n",
            "- DE_tennet_wind_generation_actual\n",
            "- DE_tennet_wind_offshore_generation_actual\n",
            "- DE_tennet_wind_onshore_generation_actual\n",
            "- DE_transnetbw_load_actual_entsoe_transparency\n",
            "- DE_transnetbw_load_forecast_entsoe_transparency\n",
            "- DE_transnetbw_solar_generation_actual\n",
            "- DE_transnetbw_wind_onshore_generation_actual\n",
            "- HU_load_actual_entsoe_transparency\n",
            "- HU_load_forecast_entsoe_transparency\n",
            "- HU_solar_generation_actual\n",
            "- HU_wind_onshore_generation_actual\n",
            "- LU_load_actual_entsoe_transparency\n",
            "- LU_load_forecast_entsoe_transparency\n",
            "- NL_load_actual_entsoe_transparency\n",
            "- NL_load_forecast_entsoe_transparency\n",
            "- NL_solar_generation_actual\n",
            "- NL_wind_generation_actual\n",
            "- NL_wind_offshore_generation_actual\n",
            "- NL_wind_onshore_generation_actual\n"
          ]
        }
      ],
      "source": [
        "connection = sqlite3.connect('../data/raw/time_series.sqlite')\n",
        "cursor = connection.cursor()\n",
        "table_name = \"time_series_15min_singleindex\"\n",
        "\n",
        "cursor.execute(f\"PRAGMA table_info({table_name});\")\n",
        "columns_info = cursor.fetchall()\n",
        "\n",
        "print(\"Columns in table:\")\n",
        "for col in columns_info:\n",
        "    print(\"-\", col[1])\n",
        "\n",
        "connection.close()"
      ]
    },
    {
      "cell_type": "markdown",
      "metadata": {
        "id": "gXl7PLKLSeyc"
      },
      "source": [
        "We can find the actual load of the Netherlands in the column **NL_load_actual_entsoe_transparency** and the timestamp in **utc_timestamp**. So now we can load the dataframe:\n"
      ]
    },
    {
      "cell_type": "code",
      "execution_count": 54,
      "metadata": {
        "colab": {
          "base_uri": "https://localhost:8080/",
          "height": 206
        },
        "id": "GVZ0O3M6RVwJ",
        "outputId": "595086cb-8959-4e61-b727-3606399bfecf"
      },
      "outputs": [
        {
          "name": "stdout",
          "output_type": "stream",
          "text": [
            "Length of dataset is: 201604\n"
          ]
        }
      ],
      "source": [
        "import pandas as pd\n",
        "\n",
        "connection = sqlite3.connect('../data/raw/time_series.sqlite')\n",
        "\n",
        "table_name = 'time_series_15min_singleindex'\n",
        "column_names = ['utc_timestamp', 'NL_load_actual_entsoe_transparency']\n",
        "\n",
        "df = pd.read_sql(f\"SELECT {', '.join(column_names)} FROM {table_name}\", connection)\n",
        "\n",
        "df.head()\n",
        "\n",
        "print('Length of dataset is:', len(df))"
      ]
    },
    {
      "cell_type": "code",
      "execution_count": 55,
      "metadata": {
        "colab": {
          "base_uri": "https://localhost:8080/"
        },
        "id": "sLbN8jt3P07O",
        "outputId": "74a46c2a-7308-4154-d2d9-8b3d526ed525"
      },
      "outputs": [
        {
          "name": "stdout",
          "output_type": "stream",
          "text": [
            "<class 'pandas.core.frame.DataFrame'>\n",
            "RangeIndex: 201604 entries, 0 to 201603\n",
            "Data columns (total 2 columns):\n",
            " #   Column                              Non-Null Count   Dtype  \n",
            "---  ------                              --------------   -----  \n",
            " 0   utc_timestamp                       201604 non-null  object \n",
            " 1   NL_load_actual_entsoe_transparency  201598 non-null  float64\n",
            "dtypes: float64(1), object(1)\n",
            "memory usage: 3.1+ MB\n"
          ]
        }
      ],
      "source": [
        "df.info()"
      ]
    },
    {
      "cell_type": "code",
      "execution_count": 56,
      "metadata": {
        "colab": {
          "base_uri": "https://localhost:8080/",
          "height": 300
        },
        "id": "o6ZbA1a-TUAF",
        "outputId": "647eacbb-0ea2-4077-ca36-1ac73fb5f990"
      },
      "outputs": [
        {
          "data": {
            "application/vnd.microsoft.datawrangler.viewer.v0+json": {
              "columns": [
                {
                  "name": "index",
                  "rawType": "object",
                  "type": "string"
                },
                {
                  "name": "NL_load_actual_entsoe_transparency",
                  "rawType": "float64",
                  "type": "float"
                }
              ],
              "ref": "a323b5fd-bdc9-4657-b213-da1681f5ed36",
              "rows": [
                [
                  "count",
                  "201598.0"
                ],
                [
                  "mean",
                  "12578.456013204495"
                ],
                [
                  "std",
                  "2290.4004108050776"
                ],
                [
                  "min",
                  "6474.0"
                ],
                [
                  "25%",
                  "10779.0"
                ],
                [
                  "50%",
                  "12447.045"
                ],
                [
                  "75%",
                  "14301.0"
                ],
                [
                  "max",
                  "19404.44"
                ]
              ],
              "shape": {
                "columns": 1,
                "rows": 8
              }
            },
            "text/html": [
              "<div>\n",
              "<style scoped>\n",
              "    .dataframe tbody tr th:only-of-type {\n",
              "        vertical-align: middle;\n",
              "    }\n",
              "\n",
              "    .dataframe tbody tr th {\n",
              "        vertical-align: top;\n",
              "    }\n",
              "\n",
              "    .dataframe thead th {\n",
              "        text-align: right;\n",
              "    }\n",
              "</style>\n",
              "<table border=\"1\" class=\"dataframe\">\n",
              "  <thead>\n",
              "    <tr style=\"text-align: right;\">\n",
              "      <th></th>\n",
              "      <th>NL_load_actual_entsoe_transparency</th>\n",
              "    </tr>\n",
              "  </thead>\n",
              "  <tbody>\n",
              "    <tr>\n",
              "      <th>count</th>\n",
              "      <td>201598.000000</td>\n",
              "    </tr>\n",
              "    <tr>\n",
              "      <th>mean</th>\n",
              "      <td>12578.456013</td>\n",
              "    </tr>\n",
              "    <tr>\n",
              "      <th>std</th>\n",
              "      <td>2290.400411</td>\n",
              "    </tr>\n",
              "    <tr>\n",
              "      <th>min</th>\n",
              "      <td>6474.000000</td>\n",
              "    </tr>\n",
              "    <tr>\n",
              "      <th>25%</th>\n",
              "      <td>10779.000000</td>\n",
              "    </tr>\n",
              "    <tr>\n",
              "      <th>50%</th>\n",
              "      <td>12447.045000</td>\n",
              "    </tr>\n",
              "    <tr>\n",
              "      <th>75%</th>\n",
              "      <td>14301.000000</td>\n",
              "    </tr>\n",
              "    <tr>\n",
              "      <th>max</th>\n",
              "      <td>19404.440000</td>\n",
              "    </tr>\n",
              "  </tbody>\n",
              "</table>\n",
              "</div>"
            ],
            "text/plain": [
              "       NL_load_actual_entsoe_transparency\n",
              "count                       201598.000000\n",
              "mean                         12578.456013\n",
              "std                           2290.400411\n",
              "min                           6474.000000\n",
              "25%                          10779.000000\n",
              "50%                          12447.045000\n",
              "75%                          14301.000000\n",
              "max                          19404.440000"
            ]
          },
          "execution_count": 56,
          "metadata": {},
          "output_type": "execute_result"
        }
      ],
      "source": [
        "df.describe()"
      ]
    },
    {
      "cell_type": "code",
      "execution_count": 57,
      "metadata": {
        "id": "heVq8WxaTcs-"
      },
      "outputs": [],
      "source": [
        "df['utc_timestamp'] = pd.to_datetime(df['utc_timestamp'], format='%Y-%m-%dT%H:%M:%SZ')"
      ]
    },
    {
      "cell_type": "code",
      "execution_count": 58,
      "metadata": {
        "colab": {
          "base_uri": "https://localhost:8080/"
        },
        "id": "uxXyhG7DVE1N",
        "outputId": "e7431f0c-e36c-4913-93d7-5bfa901d9ca1"
      },
      "outputs": [
        {
          "name": "stdout",
          "output_type": "stream",
          "text": [
            "<class 'pandas.core.frame.DataFrame'>\n",
            "RangeIndex: 201604 entries, 0 to 201603\n",
            "Data columns (total 2 columns):\n",
            " #   Column                              Non-Null Count   Dtype         \n",
            "---  ------                              --------------   -----         \n",
            " 0   utc_timestamp                       201604 non-null  datetime64[ns]\n",
            " 1   NL_load_actual_entsoe_transparency  201598 non-null  float64       \n",
            "dtypes: datetime64[ns](1), float64(1)\n",
            "memory usage: 3.1 MB\n"
          ]
        }
      ],
      "source": [
        "df.info()"
      ]
    },
    {
      "cell_type": "markdown",
      "metadata": {
        "id": "c6e9k_ciWFA3"
      },
      "source": [
        "Change the index to the time column."
      ]
    },
    {
      "cell_type": "code",
      "execution_count": 59,
      "metadata": {
        "id": "MHAWN8zQVF6C"
      },
      "outputs": [
        {
          "data": {
            "text/plain": [
              "Index(['utc_timestamp', 'NL_load_actual_entsoe_transparency'], dtype='object')"
            ]
          },
          "execution_count": 59,
          "metadata": {},
          "output_type": "execute_result"
        }
      ],
      "source": [
        "df.index = df['utc_timestamp']\n",
        "df.columns\n"
      ]
    },
    {
      "cell_type": "code",
      "execution_count": 60,
      "metadata": {
        "colab": {
          "base_uri": "https://localhost:8080/",
          "height": 268
        },
        "id": "AOWFPy7wWPXz",
        "outputId": "f98bdd36-58c6-4f25-ae19-2f25a3021a65"
      },
      "outputs": [
        {
          "data": {
            "application/vnd.microsoft.datawrangler.viewer.v0+json": {
              "columns": [
                {
                  "name": "utc_timestamp",
                  "rawType": "datetime64[ns]",
                  "type": "datetime"
                },
                {
                  "name": "utc_timestamp",
                  "rawType": "datetime64[ns]",
                  "type": "datetime"
                },
                {
                  "name": "NL_load_actual_entsoe_transparency",
                  "rawType": "float64",
                  "type": "float"
                }
              ],
              "ref": "9b229739-e04d-4f63-8d8b-05644fa1493e",
              "rows": [
                [
                  "2014-12-31 23:00:00",
                  "2014-12-31 23:00:00",
                  null
                ],
                [
                  "2014-12-31 23:15:00",
                  "2014-12-31 23:15:00",
                  null
                ],
                [
                  "2014-12-31 23:30:00",
                  "2014-12-31 23:30:00",
                  null
                ],
                [
                  "2014-12-31 23:45:00",
                  "2014-12-31 23:45:00",
                  null
                ],
                [
                  "2015-01-01 00:00:00",
                  "2015-01-01 00:00:00",
                  null
                ],
                [
                  "2020-09-30 23:45:00",
                  "2020-09-30 23:45:00",
                  null
                ]
              ],
              "shape": {
                "columns": 2,
                "rows": 6
              }
            },
            "text/html": [
              "<div>\n",
              "<style scoped>\n",
              "    .dataframe tbody tr th:only-of-type {\n",
              "        vertical-align: middle;\n",
              "    }\n",
              "\n",
              "    .dataframe tbody tr th {\n",
              "        vertical-align: top;\n",
              "    }\n",
              "\n",
              "    .dataframe thead th {\n",
              "        text-align: right;\n",
              "    }\n",
              "</style>\n",
              "<table border=\"1\" class=\"dataframe\">\n",
              "  <thead>\n",
              "    <tr style=\"text-align: right;\">\n",
              "      <th></th>\n",
              "      <th>utc_timestamp</th>\n",
              "      <th>NL_load_actual_entsoe_transparency</th>\n",
              "    </tr>\n",
              "    <tr>\n",
              "      <th>utc_timestamp</th>\n",
              "      <th></th>\n",
              "      <th></th>\n",
              "    </tr>\n",
              "  </thead>\n",
              "  <tbody>\n",
              "    <tr>\n",
              "      <th>2014-12-31 23:00:00</th>\n",
              "      <td>2014-12-31 23:00:00</td>\n",
              "      <td>NaN</td>\n",
              "    </tr>\n",
              "    <tr>\n",
              "      <th>2014-12-31 23:15:00</th>\n",
              "      <td>2014-12-31 23:15:00</td>\n",
              "      <td>NaN</td>\n",
              "    </tr>\n",
              "    <tr>\n",
              "      <th>2014-12-31 23:30:00</th>\n",
              "      <td>2014-12-31 23:30:00</td>\n",
              "      <td>NaN</td>\n",
              "    </tr>\n",
              "    <tr>\n",
              "      <th>2014-12-31 23:45:00</th>\n",
              "      <td>2014-12-31 23:45:00</td>\n",
              "      <td>NaN</td>\n",
              "    </tr>\n",
              "    <tr>\n",
              "      <th>2015-01-01 00:00:00</th>\n",
              "      <td>2015-01-01 00:00:00</td>\n",
              "      <td>NaN</td>\n",
              "    </tr>\n",
              "    <tr>\n",
              "      <th>2020-09-30 23:45:00</th>\n",
              "      <td>2020-09-30 23:45:00</td>\n",
              "      <td>NaN</td>\n",
              "    </tr>\n",
              "  </tbody>\n",
              "</table>\n",
              "</div>"
            ],
            "text/plain": [
              "                          utc_timestamp  NL_load_actual_entsoe_transparency\n",
              "utc_timestamp                                                              \n",
              "2014-12-31 23:00:00 2014-12-31 23:00:00                                 NaN\n",
              "2014-12-31 23:15:00 2014-12-31 23:15:00                                 NaN\n",
              "2014-12-31 23:30:00 2014-12-31 23:30:00                                 NaN\n",
              "2014-12-31 23:45:00 2014-12-31 23:45:00                                 NaN\n",
              "2015-01-01 00:00:00 2015-01-01 00:00:00                                 NaN\n",
              "2020-09-30 23:45:00 2020-09-30 23:45:00                                 NaN"
            ]
          },
          "execution_count": 60,
          "metadata": {},
          "output_type": "execute_result"
        }
      ],
      "source": [
        "rows = df[df.isna().any(axis=1)]\n",
        "rows"
      ]
    },
    {
      "cell_type": "markdown",
      "metadata": {
        "id": "FsvhLC2wXG7P"
      },
      "source": [
        "The first values and the last value of the dataframe are NaN. So we can just drop them."
      ]
    },
    {
      "cell_type": "code",
      "execution_count": 61,
      "metadata": {
        "id": "4pvurDjjXKlq"
      },
      "outputs": [],
      "source": [
        "df = df.dropna()"
      ]
    },
    {
      "cell_type": "markdown",
      "metadata": {
        "id": "xOpbJbTyXZBS"
      },
      "source": [
        "### Data exploration"
      ]
    },
    {
      "cell_type": "markdown",
      "metadata": {
        "id": "EAY6ciXQX9h8"
      },
      "source": [
        "First we look at the whole dataset"
      ]
    },
    {
      "cell_type": "code",
      "execution_count": 62,
      "metadata": {
        "colab": {
          "base_uri": "https://localhost:8080/",
          "height": 471
        },
        "id": "PcLv2K4VXbR-",
        "outputId": "f9d8f000-dea8-4113-8595-c2e4e0092313"
      },
      "outputs": [
        {
          "data": {
            "text/plain": [
              "<Axes: xlabel='utc_timestamp', ylabel='NL_load_actual_entsoe_transparency'>"
            ]
          },
          "execution_count": 62,
          "metadata": {},
          "output_type": "execute_result"
        },
        {
          "data": {
            "image/png": "[encoded data removed]",
            "text/plain": [
              "<Figure size 640x480 with 1 Axes>"
            ]
          },
          "metadata": {},
          "output_type": "display_data"
        }
      ],
      "source": [
        "import seaborn as sns\n",
        "\n",
        "sns.lineplot(data = df, x ='utc_timestamp', y= 'NL_load_actual_entsoe_transparency')"
      ]
    },
    {
      "cell_type": "markdown",
      "metadata": {
        "id": "MPWlxt0cYH_5"
      },
      "source": [
        "**Observations**:\n",
        "- yearly fluctuations because of the season -> in winter higher electricity demand due to more lighting, heating, more indoor activity\n",
        "\n"
      ]
    },
    {
      "cell_type": "markdown",
      "metadata": {
        "id": "8Qx_5ak4YkI2"
      },
      "source": [
        "Now we can zoom into a multiple week period"
      ]
    },
    {
      "cell_type": "code",
      "execution_count": 44,
      "metadata": {
        "colab": {
          "base_uri": "https://localhost:8080/",
          "height": 450
        },
        "id": "etcGo1F_XwxV",
        "outputId": "cd7ca64d-8b3d-4d65-9631-274e8082938b"
      },
      "outputs": [
        {
          "data": {
            "image/png": "[encoded data removed]",
            "text/plain": [
              "<Figure size 640x480 with 1 Axes>"
            ]
          },
          "metadata": {},
          "output_type": "display_data"
        }
      ],
      "source": [
        "df_multiweek = df.loc[\"2015-08-01 03:00\":\"2015-09-01 06:00\"]\n",
        "\n",
        "sns.lineplot(data = df_multiweek, x ='utc_timestamp', y= 'NL_load_actual_entsoe_transparency');"
      ]
    },
    {
      "cell_type": "markdown",
      "metadata": {
        "id": "3NLOHWMtZocz"
      },
      "source": [
        "**Observations**\n",
        "- We can clearly identify the weekdays with a higher demand for electricity, probably due to industry, offices etc.\n"
      ]
    },
    {
      "cell_type": "markdown",
      "metadata": {},
      "source": [
        "# Weather "
      ]
    },
    {
      "cell_type": "markdown",
      "metadata": {},
      "source": [
        "## Data collection "
      ]
    },
    {
      "cell_type": "code",
      "execution_count": 45,
      "metadata": {},
      "outputs": [
        {
          "name": "stdout",
          "output_type": "stream",
          "text": [
            "Tables found in database:\n",
            "- weather_data\n"
          ]
        }
      ],
      "source": [
        "import sqlite3\n",
        "\n",
        "connection = sqlite3.connect('../data/raw/weather_data.sqlite')\n",
        "\n",
        "cursor = connection.cursor()\n",
        "\n",
        "cursor.execute(\"SELECT name FROM sqlite_master WHERE type='table';\")\n",
        "tables = cursor.fetchall()\n",
        "\n",
        "print(\"Tables found in database:\")\n",
        "for t in tables:\n",
        "    print(\"-\", t[0])\n",
        "\n",
        "# connection.close()"
      ]
    },
    {
      "cell_type": "code",
      "execution_count": 47,
      "metadata": {},
      "outputs": [
        {
          "name": "stdout",
          "output_type": "stream",
          "text": [
            "Columns in table:\n",
            "- utc_timestamp\n",
            "- AT_temperature\n",
            "- AT_radiation_direct_horizontal\n",
            "- AT_radiation_diffuse_horizontal\n",
            "- BE_temperature\n",
            "- BE_radiation_direct_horizontal\n",
            "- BE_radiation_diffuse_horizontal\n",
            "- BG_temperature\n",
            "- BG_radiation_direct_horizontal\n",
            "- BG_radiation_diffuse_horizontal\n",
            "- CH_temperature\n",
            "- CH_radiation_direct_horizontal\n",
            "- CH_radiation_diffuse_horizontal\n",
            "- CZ_temperature\n",
            "- CZ_radiation_direct_horizontal\n",
            "- CZ_radiation_diffuse_horizontal\n",
            "- DE_temperature\n",
            "- DE_radiation_direct_horizontal\n",
            "- DE_radiation_diffuse_horizontal\n",
            "- DK_temperature\n",
            "- DK_radiation_direct_horizontal\n",
            "- DK_radiation_diffuse_horizontal\n",
            "- EE_temperature\n",
            "- EE_radiation_direct_horizontal\n",
            "- EE_radiation_diffuse_horizontal\n",
            "- ES_temperature\n",
            "- ES_radiation_direct_horizontal\n",
            "- ES_radiation_diffuse_horizontal\n",
            "- FI_temperature\n",
            "- FI_radiation_direct_horizontal\n",
            "- FI_radiation_diffuse_horizontal\n",
            "- FR_temperature\n",
            "- FR_radiation_direct_horizontal\n",
            "- FR_radiation_diffuse_horizontal\n",
            "- GB_temperature\n",
            "- GB_radiation_direct_horizontal\n",
            "- GB_radiation_diffuse_horizontal\n",
            "- GR_temperature\n",
            "- GR_radiation_direct_horizontal\n",
            "- GR_radiation_diffuse_horizontal\n",
            "- HR_temperature\n",
            "- HR_radiation_direct_horizontal\n",
            "- HR_radiation_diffuse_horizontal\n",
            "- HU_temperature\n",
            "- HU_radiation_direct_horizontal\n",
            "- HU_radiation_diffuse_horizontal\n",
            "- IE_temperature\n",
            "- IE_radiation_direct_horizontal\n",
            "- IE_radiation_diffuse_horizontal\n",
            "- IT_temperature\n",
            "- IT_radiation_direct_horizontal\n",
            "- IT_radiation_diffuse_horizontal\n",
            "- LT_temperature\n",
            "- LT_radiation_direct_horizontal\n",
            "- LT_radiation_diffuse_horizontal\n",
            "- LU_temperature\n",
            "- LU_radiation_direct_horizontal\n",
            "- LU_radiation_diffuse_horizontal\n",
            "- LV_temperature\n",
            "- LV_radiation_direct_horizontal\n",
            "- LV_radiation_diffuse_horizontal\n",
            "- NL_temperature\n",
            "- NL_radiation_direct_horizontal\n",
            "- NL_radiation_diffuse_horizontal\n",
            "- NO_temperature\n",
            "- NO_radiation_direct_horizontal\n",
            "- NO_radiation_diffuse_horizontal\n",
            "- PL_temperature\n",
            "- PL_radiation_direct_horizontal\n",
            "- PL_radiation_diffuse_horizontal\n",
            "- PT_temperature\n",
            "- PT_radiation_direct_horizontal\n",
            "- PT_radiation_diffuse_horizontal\n",
            "- RO_temperature\n",
            "- RO_radiation_direct_horizontal\n",
            "- RO_radiation_diffuse_horizontal\n",
            "- SE_temperature\n",
            "- SE_radiation_direct_horizontal\n",
            "- SE_radiation_diffuse_horizontal\n",
            "- SI_temperature\n",
            "- SI_radiation_direct_horizontal\n",
            "- SI_radiation_diffuse_horizontal\n",
            "- SK_temperature\n",
            "- SK_radiation_direct_horizontal\n",
            "- SK_radiation_diffuse_horizontal\n"
          ]
        }
      ],
      "source": [
        "connection = sqlite3.connect('../data/raw/weather_data.sqlite')\n",
        "cursor = connection.cursor()\n",
        "table_name = \"weather_data\"\n",
        "\n",
        "cursor.execute(f\"PRAGMA table_info({table_name});\")\n",
        "columns_info = cursor.fetchall()\n",
        "\n",
        "print(\"Columns in table:\")\n",
        "for col in columns_info:\n",
        "    print(\"-\", col[1])\n",
        "\n",
        "connection.close()"
      ]
    },
    {
      "cell_type": "markdown",
      "metadata": {},
      "source": [
        "Available columns for the neatherlands are:\n",
        "- NL_temperature\n",
        "- NL_radiation_direct_horizontal\n",
        "- NL_radiation_diffuse_horizontal\n",
        "\n",
        "To start, we will focus on the temperature and the direct horizontal radiation"
      ]
    },
    {
      "cell_type": "markdown",
      "metadata": {},
      "source": [
        "## Data exploration "
      ]
    },
    {
      "cell_type": "markdown",
      "metadata": {},
      "source": [
        "### Temperature"
      ]
    },
    {
      "cell_type": "code",
      "execution_count": 63,
      "metadata": {},
      "outputs": [
        {
          "name": "stdout",
          "output_type": "stream",
          "text": [
            "Length of dataset is: 350640\n"
          ]
        }
      ],
      "source": [
        "import pandas as pd\n",
        "\n",
        "connection = sqlite3.connect('../data/raw/weather_data.sqlite')\n",
        "\n",
        "table_name = 'weather_data'\n",
        "column_names = ['utc_timestamp', 'NL_temperature']\n",
        "\n",
        "df = pd.read_sql(f\"SELECT {', '.join(column_names)} FROM {table_name}\", connection)\n",
        "\n",
        "df.head()\n",
        "\n",
        "print('Length of dataset is:', len(df))"
      ]
    },
    {
      "cell_type": "code",
      "execution_count": null,
      "metadata": {},
      "outputs": [],
      "source": [
        "# Convert idnex to utc_timestamp and set it as index\n",
        "df['utc_timestamp'] = pd.to_datetime(df['utc_timestamp'], format='%Y-%m-%dT%H:%M:%SZ')\n",
        "df.index = df['utc_timestamp']\n",
        "df.drop(columns=['utc_timestamp'], inplace=True)"
      ]
    },
    {
      "cell_type": "code",
      "execution_count": 64,
      "metadata": {},
      "outputs": [
        {
          "name": "stdout",
          "output_type": "stream",
          "text": [
            "<class 'pandas.core.frame.DataFrame'>\n",
            "RangeIndex: 350640 entries, 0 to 350639\n",
            "Data columns (total 2 columns):\n",
            " #   Column          Non-Null Count   Dtype  \n",
            "---  ------          --------------   -----  \n",
            " 0   utc_timestamp   350640 non-null  object \n",
            " 1   NL_temperature  350640 non-null  float64\n",
            "dtypes: float64(1), object(1)\n",
            "memory usage: 5.4+ MB\n"
          ]
        }
      ],
      "source": [
        "df.info()"
      ]
    },
    {
      "cell_type": "code",
      "execution_count": 65,
      "metadata": {},
      "outputs": [
        {
          "data": {
            "application/vnd.microsoft.datawrangler.viewer.v0+json": {
              "columns": [
                {
                  "name": "index",
                  "rawType": "int64",
                  "type": "integer"
                },
                {
                  "name": "utc_timestamp",
                  "rawType": "object",
                  "type": "string"
                },
                {
                  "name": "NL_temperature",
                  "rawType": "float64",
                  "type": "float"
                }
              ],
              "ref": "2f3611e5-8d09-4ea9-8f39-a772cbaecac6",
              "rows": [
                [
                  "0",
                  "1980-01-01T00:00:00Z",
                  "2.3819999999999997"
                ],
                [
                  "1",
                  "1980-01-01T01:00:00Z",
                  "2.2359999999999998"
                ],
                [
                  "2",
                  "1980-01-01T02:00:00Z",
                  "2.086"
                ],
                [
                  "3",
                  "1980-01-01T03:00:00Z",
                  "1.861"
                ],
                [
                  "4",
                  "1980-01-01T04:00:00Z",
                  "1.713"
                ]
              ],
              "shape": {
                "columns": 2,
                "rows": 5
              }
            },
            "text/html": [
              "<div>\n",
              "<style scoped>\n",
              "    .dataframe tbody tr th:only-of-type {\n",
              "        vertical-align: middle;\n",
              "    }\n",
              "\n",
              "    .dataframe tbody tr th {\n",
              "        vertical-align: top;\n",
              "    }\n",
              "\n",
              "    .dataframe thead th {\n",
              "        text-align: right;\n",
              "    }\n",
              "</style>\n",
              "<table border=\"1\" class=\"dataframe\">\n",
              "  <thead>\n",
              "    <tr style=\"text-align: right;\">\n",
              "      <th></th>\n",
              "      <th>utc_timestamp</th>\n",
              "      <th>NL_temperature</th>\n",
              "    </tr>\n",
              "  </thead>\n",
              "  <tbody>\n",
              "    <tr>\n",
              "      <th>0</th>\n",
              "      <td>1980-01-01T00:00:00Z</td>\n",
              "      <td>2.382</td>\n",
              "    </tr>\n",
              "    <tr>\n",
              "      <th>1</th>\n",
              "      <td>1980-01-01T01:00:00Z</td>\n",
              "      <td>2.236</td>\n",
              "    </tr>\n",
              "    <tr>\n",
              "      <th>2</th>\n",
              "      <td>1980-01-01T02:00:00Z</td>\n",
              "      <td>2.086</td>\n",
              "    </tr>\n",
              "    <tr>\n",
              "      <th>3</th>\n",
              "      <td>1980-01-01T03:00:00Z</td>\n",
              "      <td>1.861</td>\n",
              "    </tr>\n",
              "    <tr>\n",
              "      <th>4</th>\n",
              "      <td>1980-01-01T04:00:00Z</td>\n",
              "      <td>1.713</td>\n",
              "    </tr>\n",
              "  </tbody>\n",
              "</table>\n",
              "</div>"
            ],
            "text/plain": [
              "          utc_timestamp  NL_temperature\n",
              "0  1980-01-01T00:00:00Z           2.382\n",
              "1  1980-01-01T01:00:00Z           2.236\n",
              "2  1980-01-01T02:00:00Z           2.086\n",
              "3  1980-01-01T03:00:00Z           1.861\n",
              "4  1980-01-01T04:00:00Z           1.713"
            ]
          },
          "execution_count": 65,
          "metadata": {},
          "output_type": "execute_result"
        }
      ],
      "source": [
        "df.head()"
      ]
    },
    {
      "cell_type": "code",
      "execution_count": 75,
      "metadata": {},
      "outputs": [
        {
          "data": {
            "text/plain": [
              "<Axes: xlabel='utc_timestamp', ylabel='NL_temperature'>"
            ]
          },
          "execution_count": 75,
          "metadata": {},
          "output_type": "execute_result"
        },
        {
          "data": {
            "image/png": "[encoded data removed]",
            "text/plain": [
              "<Figure size 640x480 with 1 Axes>"
            ]
          },
          "metadata": {},
          "output_type": "display_data"
        }
      ],
      "source": [
        "sns.lineplot(data=df, x='utc_timestamp', y='NL_temperature')"
      ]
    },
    {
      "cell_type": "code",
      "execution_count": null,
      "metadata": {},
      "outputs": [],
      "source": []
    }
  ],
  "metadata": {
    "colab": {
      "provenance": [],
      "toc_visible": true
    },
    "kernelspec": {
      "display_name": ".venv",
      "language": "python",
      "name": "python3"
    },
    "language_info": {
      "codemirror_mode": {
        "name": "ipython",
        "version": 3
      },
      "file_extension": ".py",
      "mimetype": "text/x-python",
      "name": "python",
      "nbconvert_exporter": "python",
      "pygments_lexer": "ipython3",
      "version": "3.13.5"
    },
    "widgets": {
      "application/vnd.jupyter.widget-state+json": {
        "0b6b14d1eecb4c8682a1ee7c92400716": {
          "model_module": "@jupyter-widgets/base",
          "model_module_version": "1.2.0",
          "model_name": "LayoutModel",
          "state": {
            "_model_module": "@jupyter-widgets/base",
            "_model_module_version": "1.2.0",
            "_model_name": "LayoutModel",
            "_view_count": null,
            "_view_module": "@jupyter-widgets/base",
            "_view_module_version": "1.2.0",
            "_view_name": "LayoutView",
            "align_content": null,
            "align_items": null,
            "align_self": null,
            "border": null,
            "bottom": null,
            "display": null,
            "flex": null,
            "flex_flow": null,
            "grid_area": null,
            "grid_auto_columns": null,
            "grid_auto_flow": null,
            "grid_auto_rows": null,
            "grid_column": null,
            "grid_gap": null,
            "grid_row": null,
            "grid_template_areas": null,
            "grid_template_columns": null,
            "grid_template_rows": null,
            "height": null,
            "justify_content": null,
            "justify_items": null,
            "left": null,
            "margin": null,
            "max_height": null,
            "max_width": null,
            "min_height": null,
            "min_width": null,
            "object_fit": null,
            "object_position": null,
            "order": null,
            "overflow": null,
            "overflow_x": null,
            "overflow_y": null,
            "padding": null,
            "right": null,
            "top": null,
            "visibility": null,
            "width": null
          }
        },
        "0c7f948f6442423d8518b5e5464b308c": {
          "model_module": "@jupyter-widgets/controls",
          "model_module_version": "1.5.0",
          "model_name": "DescriptionStyleModel",
          "state": {
            "_model_module": "@jupyter-widgets/controls",
            "_model_module_version": "1.5.0",
            "_model_name": "DescriptionStyleModel",
            "_view_count": null,
            "_view_module": "@jupyter-widgets/base",
            "_view_module_version": "1.2.0",
            "_view_name": "StyleView",
            "description_width": ""
          }
        },
        "0d594c20e71b423199b1a5115ed68caf": {
          "model_module": "@jupyter-widgets/controls",
          "model_module_version": "1.5.0",
          "model_name": "DescriptionStyleModel",
          "state": {
            "_model_module": "@jupyter-widgets/controls",
            "_model_module_version": "1.5.0",
            "_model_name": "DescriptionStyleModel",
            "_view_count": null,
            "_view_module": "@jupyter-widgets/base",
            "_view_module_version": "1.2.0",
            "_view_name": "StyleView",
            "description_width": ""
          }
        },
        "1c86ff3d73ad49eab20c045411f0b7ac": {
          "model_module": "@jupyter-widgets/base",
          "model_module_version": "1.2.0",
          "model_name": "LayoutModel",
          "state": {
            "_model_module": "@jupyter-widgets/base",
            "_model_module_version": "1.2.0",
            "_model_name": "LayoutModel",
            "_view_count": null,
            "_view_module": "@jupyter-widgets/base",
            "_view_module_version": "1.2.0",
            "_view_name": "LayoutView",
            "align_content": null,
            "align_items": null,
            "align_self": null,
            "border": null,
            "bottom": null,
            "display": null,
            "flex": null,
            "flex_flow": null,
            "grid_area": null,
            "grid_auto_columns": null,
            "grid_auto_flow": null,
            "grid_auto_rows": null,
            "grid_column": null,
            "grid_gap": null,
            "grid_row": null,
            "grid_template_areas": null,
            "grid_template_columns": null,
            "grid_template_rows": null,
            "height": null,
            "justify_content": null,
            "justify_items": null,
            "left": null,
            "margin": null,
            "max_height": null,
            "max_width": null,
            "min_height": null,
            "min_width": null,
            "object_fit": null,
            "object_position": null,
            "order": null,
            "overflow": null,
            "overflow_x": null,
            "overflow_y": null,
            "padding": null,
            "right": null,
            "top": null,
            "visibility": "hidden",
            "width": null
          }
        },
        "1ef04ff81c5a47308c9a175b0b5e1faa": {
          "model_module": "@jupyter-widgets/controls",
          "model_module_version": "1.5.0",
          "model_name": "DescriptionStyleModel",
          "state": {
            "_model_module": "@jupyter-widgets/controls",
            "_model_module_version": "1.5.0",
            "_model_name": "DescriptionStyleModel",
            "_view_count": null,
            "_view_module": "@jupyter-widgets/base",
            "_view_module_version": "1.2.0",
            "_view_name": "StyleView",
            "description_width": ""
          }
        },
        "217885fd379c4744a37c02c734418f58": {
          "model_module": "@jupyter-widgets/base",
          "model_module_version": "1.2.0",
          "model_name": "LayoutModel",
          "state": {
            "_model_module": "@jupyter-widgets/base",
            "_model_module_version": "1.2.0",
            "_model_name": "LayoutModel",
            "_view_count": null,
            "_view_module": "@jupyter-widgets/base",
            "_view_module_version": "1.2.0",
            "_view_name": "LayoutView",
            "align_content": null,
            "align_items": null,
            "align_self": null,
            "border": null,
            "bottom": null,
            "display": null,
            "flex": null,
            "flex_flow": null,
            "grid_area": null,
            "grid_auto_columns": null,
            "grid_auto_flow": null,
            "grid_auto_rows": null,
            "grid_column": null,
            "grid_gap": null,
            "grid_row": null,
            "grid_template_areas": null,
            "grid_template_columns": null,
            "grid_template_rows": null,
            "height": null,
            "justify_content": null,
            "justify_items": null,
            "left": null,
            "margin": null,
            "max_height": null,
            "max_width": null,
            "min_height": null,
            "min_width": null,
            "object_fit": null,
            "object_position": null,
            "order": null,
            "overflow": null,
            "overflow_x": null,
            "overflow_y": null,
            "padding": null,
            "right": null,
            "top": null,
            "visibility": null,
            "width": null
          }
        },
        "231a66d86944412d9107a5f8b9ac2654": {
          "model_module": "@jupyter-widgets/base",
          "model_module_version": "1.2.0",
          "model_name": "LayoutModel",
          "state": {
            "_model_module": "@jupyter-widgets/base",
            "_model_module_version": "1.2.0",
            "_model_name": "LayoutModel",
            "_view_count": null,
            "_view_module": "@jupyter-widgets/base",
            "_view_module_version": "1.2.0",
            "_view_name": "LayoutView",
            "align_content": null,
            "align_items": null,
            "align_self": null,
            "border": null,
            "bottom": null,
            "display": null,
            "flex": null,
            "flex_flow": null,
            "grid_area": null,
            "grid_auto_columns": null,
            "grid_auto_flow": null,
            "grid_auto_rows": null,
            "grid_column": null,
            "grid_gap": null,
            "grid_row": null,
            "grid_template_areas": null,
            "grid_template_columns": null,
            "grid_template_rows": null,
            "height": null,
            "justify_content": null,
            "justify_items": null,
            "left": null,
            "margin": null,
            "max_height": null,
            "max_width": null,
            "min_height": null,
            "min_width": null,
            "object_fit": null,
            "object_position": null,
            "order": null,
            "overflow": null,
            "overflow_x": null,
            "overflow_y": null,
            "padding": null,
            "right": null,
            "top": null,
            "visibility": "hidden",
            "width": null
          }
        },
        "2c5e09c87a3940f8bbca84ef45620c52": {
          "model_module": "@jupyter-widgets/base",
          "model_module_version": "1.2.0",
          "model_name": "LayoutModel",
          "state": {
            "_model_module": "@jupyter-widgets/base",
            "_model_module_version": "1.2.0",
            "_model_name": "LayoutModel",
            "_view_count": null,
            "_view_module": "@jupyter-widgets/base",
            "_view_module_version": "1.2.0",
            "_view_name": "LayoutView",
            "align_content": null,
            "align_items": null,
            "align_self": null,
            "border": null,
            "bottom": null,
            "display": null,
            "flex": null,
            "flex_flow": null,
            "grid_area": null,
            "grid_auto_columns": null,
            "grid_auto_flow": null,
            "grid_auto_rows": null,
            "grid_column": null,
            "grid_gap": null,
            "grid_row": null,
            "grid_template_areas": null,
            "grid_template_columns": null,
            "grid_template_rows": null,
            "height": null,
            "justify_content": null,
            "justify_items": null,
            "left": null,
            "margin": null,
            "max_height": null,
            "max_width": null,
            "min_height": null,
            "min_width": null,
            "object_fit": null,
            "object_position": null,
            "order": null,
            "overflow": null,
            "overflow_x": null,
            "overflow_y": null,
            "padding": null,
            "right": null,
            "top": null,
            "visibility": null,
            "width": null
          }
        },
        "3113f35e594f42618f3834a4b1c1a9c8": {
          "model_module": "@jupyter-widgets/controls",
          "model_module_version": "1.5.0",
          "model_name": "FloatProgressModel",
          "state": {
            "_dom_classes": [],
            "_model_module": "@jupyter-widgets/controls",
            "_model_module_version": "1.5.0",
            "_model_name": "FloatProgressModel",
            "_view_count": null,
            "_view_module": "@jupyter-widgets/controls",
            "_view_module_version": "1.5.0",
            "_view_name": "ProgressView",
            "bar_style": "",
            "description": "",
            "description_tooltip": null,
            "layout": "IPY_MODEL_fe8d7ffb3dbe40cd855e3da566a43789",
            "max": 50,
            "min": 0,
            "orientation": "horizontal",
            "style": "IPY_MODEL_91a7b37879c3463b96723851958d4039",
            "value": 50
          }
        },
        "32b4c025beab4c53acb6dd904c9c4968": {
          "model_module": "@jupyter-widgets/controls",
          "model_module_version": "1.5.0",
          "model_name": "FloatProgressModel",
          "state": {
            "_dom_classes": [],
            "_model_module": "@jupyter-widgets/controls",
            "_model_module_version": "1.5.0",
            "_model_name": "FloatProgressModel",
            "_view_count": null,
            "_view_module": "@jupyter-widgets/controls",
            "_view_module_version": "1.5.0",
            "_view_name": "ProgressView",
            "bar_style": "",
            "description": "",
            "description_tooltip": null,
            "layout": "IPY_MODEL_f2f26fe8d39348708509f65083ff4014",
            "max": 2,
            "min": 0,
            "orientation": "horizontal",
            "style": "IPY_MODEL_92456953eb7d4c28a96514203986744e",
            "value": 2
          }
        },
        "3823788f6b004a7dbc786e6723ba30e9": {
          "model_module": "@jupyter-widgets/controls",
          "model_module_version": "1.5.0",
          "model_name": "DescriptionStyleModel",
          "state": {
            "_model_module": "@jupyter-widgets/controls",
            "_model_module_version": "1.5.0",
            "_model_name": "DescriptionStyleModel",
            "_view_count": null,
            "_view_module": "@jupyter-widgets/base",
            "_view_module_version": "1.2.0",
            "_view_name": "StyleView",
            "description_width": ""
          }
        },
        "40873818e4d9444ba70d4861373f9f56": {
          "model_module": "@jupyter-widgets/base",
          "model_module_version": "1.2.0",
          "model_name": "LayoutModel",
          "state": {
            "_model_module": "@jupyter-widgets/base",
            "_model_module_version": "1.2.0",
            "_model_name": "LayoutModel",
            "_view_count": null,
            "_view_module": "@jupyter-widgets/base",
            "_view_module_version": "1.2.0",
            "_view_name": "LayoutView",
            "align_content": null,
            "align_items": null,
            "align_self": null,
            "border": null,
            "bottom": null,
            "display": null,
            "flex": null,
            "flex_flow": null,
            "grid_area": null,
            "grid_auto_columns": null,
            "grid_auto_flow": null,
            "grid_auto_rows": null,
            "grid_column": null,
            "grid_gap": null,
            "grid_row": null,
            "grid_template_areas": null,
            "grid_template_columns": null,
            "grid_template_rows": null,
            "height": null,
            "justify_content": null,
            "justify_items": null,
            "left": null,
            "margin": null,
            "max_height": null,
            "max_width": null,
            "min_height": null,
            "min_width": null,
            "object_fit": null,
            "object_position": null,
            "order": null,
            "overflow": null,
            "overflow_x": null,
            "overflow_y": null,
            "padding": null,
            "right": null,
            "top": null,
            "visibility": null,
            "width": null
          }
        },
        "440ce22a50754bc9a9148e5a2d0ecfd8": {
          "model_module": "@jupyter-widgets/controls",
          "model_module_version": "1.5.0",
          "model_name": "DescriptionStyleModel",
          "state": {
            "_model_module": "@jupyter-widgets/controls",
            "_model_module_version": "1.5.0",
            "_model_name": "DescriptionStyleModel",
            "_view_count": null,
            "_view_module": "@jupyter-widgets/base",
            "_view_module_version": "1.2.0",
            "_view_name": "StyleView",
            "description_width": ""
          }
        },
        "4780105fd0564f71bdd010d375e3a121": {
          "model_module": "@jupyter-widgets/controls",
          "model_module_version": "1.5.0",
          "model_name": "HBoxModel",
          "state": {
            "_dom_classes": [],
            "_model_module": "@jupyter-widgets/controls",
            "_model_module_version": "1.5.0",
            "_model_name": "HBoxModel",
            "_view_count": null,
            "_view_module": "@jupyter-widgets/controls",
            "_view_module_version": "1.5.0",
            "_view_name": "HBoxView",
            "box_style": "",
            "children": [
              "IPY_MODEL_9004462bf8c8496cb8d3fcfed3481733",
              "IPY_MODEL_da7d0250bc7543068a0511de63915174",
              "IPY_MODEL_fe0f06919d2c4ec88dd9d1fda7662585"
            ],
            "layout": "IPY_MODEL_231a66d86944412d9107a5f8b9ac2654"
          }
        },
        "4d6dac16cd7644639ec62794ae8920f6": {
          "model_module": "@jupyter-widgets/controls",
          "model_module_version": "1.5.0",
          "model_name": "ProgressStyleModel",
          "state": {
            "_model_module": "@jupyter-widgets/controls",
            "_model_module_version": "1.5.0",
            "_model_name": "ProgressStyleModel",
            "_view_count": null,
            "_view_module": "@jupyter-widgets/base",
            "_view_module_version": "1.2.0",
            "_view_name": "StyleView",
            "bar_color": null,
            "description_width": ""
          }
        },
        "51c598f451b74047a310e882ca7d5b3a": {
          "model_module": "@jupyter-widgets/base",
          "model_module_version": "1.2.0",
          "model_name": "LayoutModel",
          "state": {
            "_model_module": "@jupyter-widgets/base",
            "_model_module_version": "1.2.0",
            "_model_name": "LayoutModel",
            "_view_count": null,
            "_view_module": "@jupyter-widgets/base",
            "_view_module_version": "1.2.0",
            "_view_name": "LayoutView",
            "align_content": null,
            "align_items": null,
            "align_self": null,
            "border": null,
            "bottom": null,
            "display": null,
            "flex": null,
            "flex_flow": null,
            "grid_area": null,
            "grid_auto_columns": null,
            "grid_auto_flow": null,
            "grid_auto_rows": null,
            "grid_column": null,
            "grid_gap": null,
            "grid_row": null,
            "grid_template_areas": null,
            "grid_template_columns": null,
            "grid_template_rows": null,
            "height": null,
            "justify_content": null,
            "justify_items": null,
            "left": null,
            "margin": null,
            "max_height": null,
            "max_width": null,
            "min_height": null,
            "min_width": null,
            "object_fit": null,
            "object_position": null,
            "order": null,
            "overflow": null,
            "overflow_x": null,
            "overflow_y": null,
            "padding": null,
            "right": null,
            "top": null,
            "visibility": null,
            "width": null
          }
        },
        "545a3c19d90e4427b7d4c044a3ae7e9a": {
          "model_module": "@jupyter-widgets/base",
          "model_module_version": "1.2.0",
          "model_name": "LayoutModel",
          "state": {
            "_model_module": "@jupyter-widgets/base",
            "_model_module_version": "1.2.0",
            "_model_name": "LayoutModel",
            "_view_count": null,
            "_view_module": "@jupyter-widgets/base",
            "_view_module_version": "1.2.0",
            "_view_name": "LayoutView",
            "align_content": null,
            "align_items": null,
            "align_self": null,
            "border": null,
            "bottom": null,
            "display": null,
            "flex": null,
            "flex_flow": null,
            "grid_area": null,
            "grid_auto_columns": null,
            "grid_auto_flow": null,
            "grid_auto_rows": null,
            "grid_column": null,
            "grid_gap": null,
            "grid_row": null,
            "grid_template_areas": null,
            "grid_template_columns": null,
            "grid_template_rows": null,
            "height": null,
            "justify_content": null,
            "justify_items": null,
            "left": null,
            "margin": null,
            "max_height": null,
            "max_width": null,
            "min_height": null,
            "min_width": null,
            "object_fit": null,
            "object_position": null,
            "order": null,
            "overflow": null,
            "overflow_x": null,
            "overflow_y": null,
            "padding": null,
            "right": null,
            "top": null,
            "visibility": "hidden",
            "width": null
          }
        },
        "5b239ca143f64ec9a1f61690abd92556": {
          "model_module": "@jupyter-widgets/controls",
          "model_module_version": "1.5.0",
          "model_name": "ProgressStyleModel",
          "state": {
            "_model_module": "@jupyter-widgets/controls",
            "_model_module_version": "1.5.0",
            "_model_name": "ProgressStyleModel",
            "_view_count": null,
            "_view_module": "@jupyter-widgets/base",
            "_view_module_version": "1.2.0",
            "_view_name": "StyleView",
            "bar_color": null,
            "description_width": ""
          }
        },
        "5c38b26a5e7f4fb58af1b2704657c415": {
          "model_module": "@jupyter-widgets/controls",
          "model_module_version": "1.5.0",
          "model_name": "FloatProgressModel",
          "state": {
            "_dom_classes": [],
            "_model_module": "@jupyter-widgets/controls",
            "_model_module_version": "1.5.0",
            "_model_name": "FloatProgressModel",
            "_view_count": null,
            "_view_module": "@jupyter-widgets/controls",
            "_view_module_version": "1.5.0",
            "_view_name": "ProgressView",
            "bar_style": "",
            "description": "",
            "description_tooltip": null,
            "layout": "IPY_MODEL_97eafd165f23454eae5925caa130cf7c",
            "max": 50,
            "min": 0,
            "orientation": "horizontal",
            "style": "IPY_MODEL_8cbce94167524710bc9b77bd59423052",
            "value": 50
          }
        },
        "5f39d9c6ad9c4c3dad2bb1d2cb363ebb": {
          "model_module": "@jupyter-widgets/controls",
          "model_module_version": "1.5.0",
          "model_name": "DescriptionStyleModel",
          "state": {
            "_model_module": "@jupyter-widgets/controls",
            "_model_module_version": "1.5.0",
            "_model_name": "DescriptionStyleModel",
            "_view_count": null,
            "_view_module": "@jupyter-widgets/base",
            "_view_module_version": "1.2.0",
            "_view_name": "StyleView",
            "description_width": ""
          }
        },
        "6c11965c99e34812bcd424b22929edc8": {
          "model_module": "@jupyter-widgets/controls",
          "model_module_version": "1.5.0",
          "model_name": "HBoxModel",
          "state": {
            "_dom_classes": [],
            "_model_module": "@jupyter-widgets/controls",
            "_model_module_version": "1.5.0",
            "_model_name": "HBoxModel",
            "_view_count": null,
            "_view_module": "@jupyter-widgets/controls",
            "_view_module_version": "1.5.0",
            "_view_name": "HBoxView",
            "box_style": "",
            "children": [
              "IPY_MODEL_ed664609c14748fbaa3bdb402f580b33",
              "IPY_MODEL_91e44dc5b3834dfe917afb00fdd2a82c",
              "IPY_MODEL_77defab82dac498c9a0b1a9ca41cd08e"
            ],
            "layout": "IPY_MODEL_51c598f451b74047a310e882ca7d5b3a"
          }
        },
        "745503a9d45d417097455d2fd753e9f1": {
          "model_module": "@jupyter-widgets/base",
          "model_module_version": "1.2.0",
          "model_name": "LayoutModel",
          "state": {
            "_model_module": "@jupyter-widgets/base",
            "_model_module_version": "1.2.0",
            "_model_name": "LayoutModel",
            "_view_count": null,
            "_view_module": "@jupyter-widgets/base",
            "_view_module_version": "1.2.0",
            "_view_name": "LayoutView",
            "align_content": null,
            "align_items": null,
            "align_self": null,
            "border": null,
            "bottom": null,
            "display": null,
            "flex": null,
            "flex_flow": null,
            "grid_area": null,
            "grid_auto_columns": null,
            "grid_auto_flow": null,
            "grid_auto_rows": null,
            "grid_column": null,
            "grid_gap": null,
            "grid_row": null,
            "grid_template_areas": null,
            "grid_template_columns": null,
            "grid_template_rows": null,
            "height": null,
            "justify_content": null,
            "justify_items": null,
            "left": null,
            "margin": null,
            "max_height": null,
            "max_width": null,
            "min_height": null,
            "min_width": null,
            "object_fit": null,
            "object_position": null,
            "order": null,
            "overflow": null,
            "overflow_x": null,
            "overflow_y": null,
            "padding": null,
            "right": null,
            "top": null,
            "visibility": null,
            "width": null
          }
        },
        "77defab82dac498c9a0b1a9ca41cd08e": {
          "model_module": "@jupyter-widgets/controls",
          "model_module_version": "1.5.0",
          "model_name": "HTMLModel",
          "state": {
            "_dom_classes": [],
            "_model_module": "@jupyter-widgets/controls",
            "_model_module_version": "1.5.0",
            "_model_name": "HTMLModel",
            "_view_count": null,
            "_view_module": "@jupyter-widgets/controls",
            "_view_module_version": "1.5.0",
            "_view_name": "HTMLView",
            "description": "",
            "description_tooltip": null,
            "layout": "IPY_MODEL_facfd31380d94de5aa2b951007c06506",
            "placeholder": "​",
            "style": "IPY_MODEL_bc37e88262db49b5ba99905584d253b4",
            "value": " 1/1 [00:55&lt;00:00, 55.34s/it]"
          }
        },
        "86b8f1c29222409fa0ed7b53d28bff48": {
          "model_module": "@jupyter-widgets/base",
          "model_module_version": "1.2.0",
          "model_name": "LayoutModel",
          "state": {
            "_model_module": "@jupyter-widgets/base",
            "_model_module_version": "1.2.0",
            "_model_name": "LayoutModel",
            "_view_count": null,
            "_view_module": "@jupyter-widgets/base",
            "_view_module_version": "1.2.0",
            "_view_name": "LayoutView",
            "align_content": null,
            "align_items": null,
            "align_self": null,
            "border": null,
            "bottom": null,
            "display": null,
            "flex": null,
            "flex_flow": null,
            "grid_area": null,
            "grid_auto_columns": null,
            "grid_auto_flow": null,
            "grid_auto_rows": null,
            "grid_column": null,
            "grid_gap": null,
            "grid_row": null,
            "grid_template_areas": null,
            "grid_template_columns": null,
            "grid_template_rows": null,
            "height": null,
            "justify_content": null,
            "justify_items": null,
            "left": null,
            "margin": null,
            "max_height": null,
            "max_width": null,
            "min_height": null,
            "min_width": null,
            "object_fit": null,
            "object_position": null,
            "order": null,
            "overflow": null,
            "overflow_x": null,
            "overflow_y": null,
            "padding": null,
            "right": null,
            "top": null,
            "visibility": null,
            "width": null
          }
        },
        "8c4c7093e4e34f96ab7e9afaa9715193": {
          "model_module": "@jupyter-widgets/controls",
          "model_module_version": "1.5.0",
          "model_name": "HTMLModel",
          "state": {
            "_dom_classes": [],
            "_model_module": "@jupyter-widgets/controls",
            "_model_module_version": "1.5.0",
            "_model_name": "HTMLModel",
            "_view_count": null,
            "_view_module": "@jupyter-widgets/controls",
            "_view_module_version": "1.5.0",
            "_view_name": "HTMLView",
            "description": "",
            "description_tooltip": null,
            "layout": "IPY_MODEL_9a68083498574144a9a2095f6308a5cd",
            "placeholder": "​",
            "style": "IPY_MODEL_440ce22a50754bc9a9148e5a2d0ecfd8",
            "value": " 50/50 [00:56&lt;00:00,  1.08s/it]"
          }
        },
        "8cbce94167524710bc9b77bd59423052": {
          "model_module": "@jupyter-widgets/controls",
          "model_module_version": "1.5.0",
          "model_name": "ProgressStyleModel",
          "state": {
            "_model_module": "@jupyter-widgets/controls",
            "_model_module_version": "1.5.0",
            "_model_name": "ProgressStyleModel",
            "_view_count": null,
            "_view_module": "@jupyter-widgets/base",
            "_view_module_version": "1.2.0",
            "_view_name": "StyleView",
            "bar_color": null,
            "description_width": ""
          }
        },
        "8e7b0ee3ed5c4d22ba97dbb576c9b845": {
          "model_module": "@jupyter-widgets/controls",
          "model_module_version": "1.5.0",
          "model_name": "DescriptionStyleModel",
          "state": {
            "_model_module": "@jupyter-widgets/controls",
            "_model_module_version": "1.5.0",
            "_model_name": "DescriptionStyleModel",
            "_view_count": null,
            "_view_module": "@jupyter-widgets/base",
            "_view_module_version": "1.2.0",
            "_view_name": "StyleView",
            "description_width": ""
          }
        },
        "9004462bf8c8496cb8d3fcfed3481733": {
          "model_module": "@jupyter-widgets/controls",
          "model_module_version": "1.5.0",
          "model_name": "HTMLModel",
          "state": {
            "_dom_classes": [],
            "_model_module": "@jupyter-widgets/controls",
            "_model_module_version": "1.5.0",
            "_model_name": "HTMLModel",
            "_view_count": null,
            "_view_module": "@jupyter-widgets/controls",
            "_view_module_version": "1.5.0",
            "_view_name": "HTMLView",
            "description": "",
            "description_tooltip": null,
            "layout": "IPY_MODEL_0b6b14d1eecb4c8682a1ee7c92400716",
            "placeholder": "​",
            "style": "IPY_MODEL_dd772dd92e9a46d799c94e9b9d8629ee",
            "value": "Epoch: 100%"
          }
        },
        "91a7b37879c3463b96723851958d4039": {
          "model_module": "@jupyter-widgets/controls",
          "model_module_version": "1.5.0",
          "model_name": "ProgressStyleModel",
          "state": {
            "_model_module": "@jupyter-widgets/controls",
            "_model_module_version": "1.5.0",
            "_model_name": "ProgressStyleModel",
            "_view_count": null,
            "_view_module": "@jupyter-widgets/base",
            "_view_module_version": "1.2.0",
            "_view_name": "StyleView",
            "bar_color": null,
            "description_width": ""
          }
        },
        "91e44dc5b3834dfe917afb00fdd2a82c": {
          "model_module": "@jupyter-widgets/controls",
          "model_module_version": "1.5.0",
          "model_name": "FloatProgressModel",
          "state": {
            "_dom_classes": [],
            "_model_module": "@jupyter-widgets/controls",
            "_model_module_version": "1.5.0",
            "_model_name": "FloatProgressModel",
            "_view_count": null,
            "_view_module": "@jupyter-widgets/controls",
            "_view_module_version": "1.5.0",
            "_view_name": "ProgressView",
            "bar_style": "success",
            "description": "",
            "description_tooltip": null,
            "layout": "IPY_MODEL_745503a9d45d417097455d2fd753e9f1",
            "max": 1,
            "min": 0,
            "orientation": "horizontal",
            "style": "IPY_MODEL_4d6dac16cd7644639ec62794ae8920f6",
            "value": 1
          }
        },
        "92456953eb7d4c28a96514203986744e": {
          "model_module": "@jupyter-widgets/controls",
          "model_module_version": "1.5.0",
          "model_name": "ProgressStyleModel",
          "state": {
            "_model_module": "@jupyter-widgets/controls",
            "_model_module_version": "1.5.0",
            "_model_name": "ProgressStyleModel",
            "_view_count": null,
            "_view_module": "@jupyter-widgets/base",
            "_view_module_version": "1.2.0",
            "_view_name": "StyleView",
            "bar_color": null,
            "description_width": ""
          }
        },
        "96d2cec54a4f4ca98733ecf523abb90e": {
          "model_module": "@jupyter-widgets/base",
          "model_module_version": "1.2.0",
          "model_name": "LayoutModel",
          "state": {
            "_model_module": "@jupyter-widgets/base",
            "_model_module_version": "1.2.0",
            "_model_name": "LayoutModel",
            "_view_count": null,
            "_view_module": "@jupyter-widgets/base",
            "_view_module_version": "1.2.0",
            "_view_name": "LayoutView",
            "align_content": null,
            "align_items": null,
            "align_self": null,
            "border": null,
            "bottom": null,
            "display": null,
            "flex": null,
            "flex_flow": null,
            "grid_area": null,
            "grid_auto_columns": null,
            "grid_auto_flow": null,
            "grid_auto_rows": null,
            "grid_column": null,
            "grid_gap": null,
            "grid_row": null,
            "grid_template_areas": null,
            "grid_template_columns": null,
            "grid_template_rows": null,
            "height": null,
            "justify_content": null,
            "justify_items": null,
            "left": null,
            "margin": null,
            "max_height": null,
            "max_width": null,
            "min_height": null,
            "min_width": null,
            "object_fit": null,
            "object_position": null,
            "order": null,
            "overflow": null,
            "overflow_x": null,
            "overflow_y": null,
            "padding": null,
            "right": null,
            "top": null,
            "visibility": null,
            "width": null
          }
        },
        "97eafd165f23454eae5925caa130cf7c": {
          "model_module": "@jupyter-widgets/base",
          "model_module_version": "1.2.0",
          "model_name": "LayoutModel",
          "state": {
            "_model_module": "@jupyter-widgets/base",
            "_model_module_version": "1.2.0",
            "_model_name": "LayoutModel",
            "_view_count": null,
            "_view_module": "@jupyter-widgets/base",
            "_view_module_version": "1.2.0",
            "_view_name": "LayoutView",
            "align_content": null,
            "align_items": null,
            "align_self": null,
            "border": null,
            "bottom": null,
            "display": null,
            "flex": null,
            "flex_flow": null,
            "grid_area": null,
            "grid_auto_columns": null,
            "grid_auto_flow": null,
            "grid_auto_rows": null,
            "grid_column": null,
            "grid_gap": null,
            "grid_row": null,
            "grid_template_areas": null,
            "grid_template_columns": null,
            "grid_template_rows": null,
            "height": null,
            "justify_content": null,
            "justify_items": null,
            "left": null,
            "margin": null,
            "max_height": null,
            "max_width": null,
            "min_height": null,
            "min_width": null,
            "object_fit": null,
            "object_position": null,
            "order": null,
            "overflow": null,
            "overflow_x": null,
            "overflow_y": null,
            "padding": null,
            "right": null,
            "top": null,
            "visibility": null,
            "width": null
          }
        },
        "9964535738c44f1cb4332561332bd65e": {
          "model_module": "@jupyter-widgets/controls",
          "model_module_version": "1.5.0",
          "model_name": "HTMLModel",
          "state": {
            "_dom_classes": [],
            "_model_module": "@jupyter-widgets/controls",
            "_model_module_version": "1.5.0",
            "_model_name": "HTMLModel",
            "_view_count": null,
            "_view_module": "@jupyter-widgets/controls",
            "_view_module_version": "1.5.0",
            "_view_name": "HTMLView",
            "description": "",
            "description_tooltip": null,
            "layout": "IPY_MODEL_217885fd379c4744a37c02c734418f58",
            "placeholder": "​",
            "style": "IPY_MODEL_1ef04ff81c5a47308c9a175b0b5e1faa",
            "value": " 2/2 [00:55&lt;00:00, 29.35s/it]"
          }
        },
        "9a68083498574144a9a2095f6308a5cd": {
          "model_module": "@jupyter-widgets/base",
          "model_module_version": "1.2.0",
          "model_name": "LayoutModel",
          "state": {
            "_model_module": "@jupyter-widgets/base",
            "_model_module_version": "1.2.0",
            "_model_name": "LayoutModel",
            "_view_count": null,
            "_view_module": "@jupyter-widgets/base",
            "_view_module_version": "1.2.0",
            "_view_name": "LayoutView",
            "align_content": null,
            "align_items": null,
            "align_self": null,
            "border": null,
            "bottom": null,
            "display": null,
            "flex": null,
            "flex_flow": null,
            "grid_area": null,
            "grid_auto_columns": null,
            "grid_auto_flow": null,
            "grid_auto_rows": null,
            "grid_column": null,
            "grid_gap": null,
            "grid_row": null,
            "grid_template_areas": null,
            "grid_template_columns": null,
            "grid_template_rows": null,
            "height": null,
            "justify_content": null,
            "justify_items": null,
            "left": null,
            "margin": null,
            "max_height": null,
            "max_width": null,
            "min_height": null,
            "min_width": null,
            "object_fit": null,
            "object_position": null,
            "order": null,
            "overflow": null,
            "overflow_x": null,
            "overflow_y": null,
            "padding": null,
            "right": null,
            "top": null,
            "visibility": null,
            "width": null
          }
        },
        "a3b8f111882f4c12b1b6a6b117900ab0": {
          "model_module": "@jupyter-widgets/base",
          "model_module_version": "1.2.0",
          "model_name": "LayoutModel",
          "state": {
            "_model_module": "@jupyter-widgets/base",
            "_model_module_version": "1.2.0",
            "_model_name": "LayoutModel",
            "_view_count": null,
            "_view_module": "@jupyter-widgets/base",
            "_view_module_version": "1.2.0",
            "_view_name": "LayoutView",
            "align_content": null,
            "align_items": null,
            "align_self": null,
            "border": null,
            "bottom": null,
            "display": null,
            "flex": null,
            "flex_flow": null,
            "grid_area": null,
            "grid_auto_columns": null,
            "grid_auto_flow": null,
            "grid_auto_rows": null,
            "grid_column": null,
            "grid_gap": null,
            "grid_row": null,
            "grid_template_areas": null,
            "grid_template_columns": null,
            "grid_template_rows": null,
            "height": null,
            "justify_content": null,
            "justify_items": null,
            "left": null,
            "margin": null,
            "max_height": null,
            "max_width": null,
            "min_height": null,
            "min_width": null,
            "object_fit": null,
            "object_position": null,
            "order": null,
            "overflow": null,
            "overflow_x": null,
            "overflow_y": null,
            "padding": null,
            "right": null,
            "top": null,
            "visibility": null,
            "width": null
          }
        },
        "bc03027fada941a9a1b5e09959e6e421": {
          "model_module": "@jupyter-widgets/controls",
          "model_module_version": "1.5.0",
          "model_name": "HTMLModel",
          "state": {
            "_dom_classes": [],
            "_model_module": "@jupyter-widgets/controls",
            "_model_module_version": "1.5.0",
            "_model_name": "HTMLModel",
            "_view_count": null,
            "_view_module": "@jupyter-widgets/controls",
            "_view_module_version": "1.5.0",
            "_view_name": "HTMLView",
            "description": "",
            "description_tooltip": null,
            "layout": "IPY_MODEL_96d2cec54a4f4ca98733ecf523abb90e",
            "placeholder": "​",
            "style": "IPY_MODEL_3823788f6b004a7dbc786e6723ba30e9",
            "value": "Epoch: 100%"
          }
        },
        "bc37e88262db49b5ba99905584d253b4": {
          "model_module": "@jupyter-widgets/controls",
          "model_module_version": "1.5.0",
          "model_name": "DescriptionStyleModel",
          "state": {
            "_model_module": "@jupyter-widgets/controls",
            "_model_module_version": "1.5.0",
            "_model_name": "DescriptionStyleModel",
            "_view_count": null,
            "_view_module": "@jupyter-widgets/base",
            "_view_module_version": "1.2.0",
            "_view_name": "StyleView",
            "description_width": ""
          }
        },
        "bddbff3fc1df45f98dc01f419c59f86a": {
          "model_module": "@jupyter-widgets/base",
          "model_module_version": "1.2.0",
          "model_name": "LayoutModel",
          "state": {
            "_model_module": "@jupyter-widgets/base",
            "_model_module_version": "1.2.0",
            "_model_name": "LayoutModel",
            "_view_count": null,
            "_view_module": "@jupyter-widgets/base",
            "_view_module_version": "1.2.0",
            "_view_name": "LayoutView",
            "align_content": null,
            "align_items": null,
            "align_self": null,
            "border": null,
            "bottom": null,
            "display": null,
            "flex": null,
            "flex_flow": null,
            "grid_area": null,
            "grid_auto_columns": null,
            "grid_auto_flow": null,
            "grid_auto_rows": null,
            "grid_column": null,
            "grid_gap": null,
            "grid_row": null,
            "grid_template_areas": null,
            "grid_template_columns": null,
            "grid_template_rows": null,
            "height": null,
            "justify_content": null,
            "justify_items": null,
            "left": null,
            "margin": null,
            "max_height": null,
            "max_width": null,
            "min_height": null,
            "min_width": null,
            "object_fit": null,
            "object_position": null,
            "order": null,
            "overflow": null,
            "overflow_x": null,
            "overflow_y": null,
            "padding": null,
            "right": null,
            "top": null,
            "visibility": null,
            "width": null
          }
        },
        "d32af7284c77476f9d35710c329aa609": {
          "model_module": "@jupyter-widgets/controls",
          "model_module_version": "1.5.0",
          "model_name": "HTMLModel",
          "state": {
            "_dom_classes": [],
            "_model_module": "@jupyter-widgets/controls",
            "_model_module_version": "1.5.0",
            "_model_name": "HTMLModel",
            "_view_count": null,
            "_view_module": "@jupyter-widgets/controls",
            "_view_module_version": "1.5.0",
            "_view_name": "HTMLView",
            "description": "",
            "description_tooltip": null,
            "layout": "IPY_MODEL_40873818e4d9444ba70d4861373f9f56",
            "placeholder": "​",
            "style": "IPY_MODEL_0c7f948f6442423d8518b5e5464b308c",
            "value": "Epoch: 100%"
          }
        },
        "da7d0250bc7543068a0511de63915174": {
          "model_module": "@jupyter-widgets/controls",
          "model_module_version": "1.5.0",
          "model_name": "FloatProgressModel",
          "state": {
            "_dom_classes": [],
            "_model_module": "@jupyter-widgets/controls",
            "_model_module_version": "1.5.0",
            "_model_name": "FloatProgressModel",
            "_view_count": null,
            "_view_module": "@jupyter-widgets/controls",
            "_view_module_version": "1.5.0",
            "_view_name": "ProgressView",
            "bar_style": "",
            "description": "",
            "description_tooltip": null,
            "layout": "IPY_MODEL_e40372b5d47f4e8ab2d002f47e1a562d",
            "max": 50,
            "min": 0,
            "orientation": "horizontal",
            "style": "IPY_MODEL_5b239ca143f64ec9a1f61690abd92556",
            "value": 50
          }
        },
        "dc1463d8a3f34f3eae16436876209485": {
          "model_module": "@jupyter-widgets/controls",
          "model_module_version": "1.5.0",
          "model_name": "HTMLModel",
          "state": {
            "_dom_classes": [],
            "_model_module": "@jupyter-widgets/controls",
            "_model_module_version": "1.5.0",
            "_model_name": "HTMLModel",
            "_view_count": null,
            "_view_module": "@jupyter-widgets/controls",
            "_view_module_version": "1.5.0",
            "_view_name": "HTMLView",
            "description": "",
            "description_tooltip": null,
            "layout": "IPY_MODEL_a3b8f111882f4c12b1b6a6b117900ab0",
            "placeholder": "​",
            "style": "IPY_MODEL_5f39d9c6ad9c4c3dad2bb1d2cb363ebb",
            "value": "Folds: 100%"
          }
        },
        "dd772dd92e9a46d799c94e9b9d8629ee": {
          "model_module": "@jupyter-widgets/controls",
          "model_module_version": "1.5.0",
          "model_name": "DescriptionStyleModel",
          "state": {
            "_model_module": "@jupyter-widgets/controls",
            "_model_module_version": "1.5.0",
            "_model_name": "DescriptionStyleModel",
            "_view_count": null,
            "_view_module": "@jupyter-widgets/base",
            "_view_module_version": "1.2.0",
            "_view_name": "StyleView",
            "description_width": ""
          }
        },
        "e336eef2e4954929a2f603678f011006": {
          "model_module": "@jupyter-widgets/controls",
          "model_module_version": "1.5.0",
          "model_name": "HBoxModel",
          "state": {
            "_dom_classes": [],
            "_model_module": "@jupyter-widgets/controls",
            "_model_module_version": "1.5.0",
            "_model_name": "HBoxModel",
            "_view_count": null,
            "_view_module": "@jupyter-widgets/controls",
            "_view_module_version": "1.5.0",
            "_view_name": "HBoxView",
            "box_style": "",
            "children": [
              "IPY_MODEL_bc03027fada941a9a1b5e09959e6e421",
              "IPY_MODEL_3113f35e594f42618f3834a4b1c1a9c8",
              "IPY_MODEL_8c4c7093e4e34f96ab7e9afaa9715193"
            ],
            "layout": "IPY_MODEL_f677ca52aeb147bcae182fa1cb71c310"
          }
        },
        "e40372b5d47f4e8ab2d002f47e1a562d": {
          "model_module": "@jupyter-widgets/base",
          "model_module_version": "1.2.0",
          "model_name": "LayoutModel",
          "state": {
            "_model_module": "@jupyter-widgets/base",
            "_model_module_version": "1.2.0",
            "_model_name": "LayoutModel",
            "_view_count": null,
            "_view_module": "@jupyter-widgets/base",
            "_view_module_version": "1.2.0",
            "_view_name": "LayoutView",
            "align_content": null,
            "align_items": null,
            "align_self": null,
            "border": null,
            "bottom": null,
            "display": null,
            "flex": null,
            "flex_flow": null,
            "grid_area": null,
            "grid_auto_columns": null,
            "grid_auto_flow": null,
            "grid_auto_rows": null,
            "grid_column": null,
            "grid_gap": null,
            "grid_row": null,
            "grid_template_areas": null,
            "grid_template_columns": null,
            "grid_template_rows": null,
            "height": null,
            "justify_content": null,
            "justify_items": null,
            "left": null,
            "margin": null,
            "max_height": null,
            "max_width": null,
            "min_height": null,
            "min_width": null,
            "object_fit": null,
            "object_position": null,
            "order": null,
            "overflow": null,
            "overflow_x": null,
            "overflow_y": null,
            "padding": null,
            "right": null,
            "top": null,
            "visibility": null,
            "width": null
          }
        },
        "ed664609c14748fbaa3bdb402f580b33": {
          "model_module": "@jupyter-widgets/controls",
          "model_module_version": "1.5.0",
          "model_name": "HTMLModel",
          "state": {
            "_dom_classes": [],
            "_model_module": "@jupyter-widgets/controls",
            "_model_module_version": "1.5.0",
            "_model_name": "HTMLModel",
            "_view_count": null,
            "_view_module": "@jupyter-widgets/controls",
            "_view_module_version": "1.5.0",
            "_view_name": "HTMLView",
            "description": "",
            "description_tooltip": null,
            "layout": "IPY_MODEL_2c5e09c87a3940f8bbca84ef45620c52",
            "placeholder": "​",
            "style": "IPY_MODEL_0d594c20e71b423199b1a5115ed68caf",
            "value": "Parameter combinations: 100%"
          }
        },
        "f2f26fe8d39348708509f65083ff4014": {
          "model_module": "@jupyter-widgets/base",
          "model_module_version": "1.2.0",
          "model_name": "LayoutModel",
          "state": {
            "_model_module": "@jupyter-widgets/base",
            "_model_module_version": "1.2.0",
            "_model_name": "LayoutModel",
            "_view_count": null,
            "_view_module": "@jupyter-widgets/base",
            "_view_module_version": "1.2.0",
            "_view_name": "LayoutView",
            "align_content": null,
            "align_items": null,
            "align_self": null,
            "border": null,
            "bottom": null,
            "display": null,
            "flex": null,
            "flex_flow": null,
            "grid_area": null,
            "grid_auto_columns": null,
            "grid_auto_flow": null,
            "grid_auto_rows": null,
            "grid_column": null,
            "grid_gap": null,
            "grid_row": null,
            "grid_template_areas": null,
            "grid_template_columns": null,
            "grid_template_rows": null,
            "height": null,
            "justify_content": null,
            "justify_items": null,
            "left": null,
            "margin": null,
            "max_height": null,
            "max_width": null,
            "min_height": null,
            "min_width": null,
            "object_fit": null,
            "object_position": null,
            "order": null,
            "overflow": null,
            "overflow_x": null,
            "overflow_y": null,
            "padding": null,
            "right": null,
            "top": null,
            "visibility": null,
            "width": null
          }
        },
        "f3f106d845d548219b95a4519d17bc05": {
          "model_module": "@jupyter-widgets/controls",
          "model_module_version": "1.5.0",
          "model_name": "DescriptionStyleModel",
          "state": {
            "_model_module": "@jupyter-widgets/controls",
            "_model_module_version": "1.5.0",
            "_model_name": "DescriptionStyleModel",
            "_view_count": null,
            "_view_module": "@jupyter-widgets/base",
            "_view_module_version": "1.2.0",
            "_view_name": "StyleView",
            "description_width": ""
          }
        },
        "f677ca52aeb147bcae182fa1cb71c310": {
          "model_module": "@jupyter-widgets/base",
          "model_module_version": "1.2.0",
          "model_name": "LayoutModel",
          "state": {
            "_model_module": "@jupyter-widgets/base",
            "_model_module_version": "1.2.0",
            "_model_name": "LayoutModel",
            "_view_count": null,
            "_view_module": "@jupyter-widgets/base",
            "_view_module_version": "1.2.0",
            "_view_name": "LayoutView",
            "align_content": null,
            "align_items": null,
            "align_self": null,
            "border": null,
            "bottom": null,
            "display": null,
            "flex": null,
            "flex_flow": null,
            "grid_area": null,
            "grid_auto_columns": null,
            "grid_auto_flow": null,
            "grid_auto_rows": null,
            "grid_column": null,
            "grid_gap": null,
            "grid_row": null,
            "grid_template_areas": null,
            "grid_template_columns": null,
            "grid_template_rows": null,
            "height": null,
            "justify_content": null,
            "justify_items": null,
            "left": null,
            "margin": null,
            "max_height": null,
            "max_width": null,
            "min_height": null,
            "min_width": null,
            "object_fit": null,
            "object_position": null,
            "order": null,
            "overflow": null,
            "overflow_x": null,
            "overflow_y": null,
            "padding": null,
            "right": null,
            "top": null,
            "visibility": "hidden",
            "width": null
          }
        },
        "f971405d23114a8bb5aa854bd9dbb948": {
          "model_module": "@jupyter-widgets/controls",
          "model_module_version": "1.5.0",
          "model_name": "HBoxModel",
          "state": {
            "_dom_classes": [],
            "_model_module": "@jupyter-widgets/controls",
            "_model_module_version": "1.5.0",
            "_model_name": "HBoxModel",
            "_view_count": null,
            "_view_module": "@jupyter-widgets/controls",
            "_view_module_version": "1.5.0",
            "_view_name": "HBoxView",
            "box_style": "",
            "children": [
              "IPY_MODEL_dc1463d8a3f34f3eae16436876209485",
              "IPY_MODEL_32b4c025beab4c53acb6dd904c9c4968",
              "IPY_MODEL_9964535738c44f1cb4332561332bd65e"
            ],
            "layout": "IPY_MODEL_1c86ff3d73ad49eab20c045411f0b7ac"
          }
        },
        "facfd31380d94de5aa2b951007c06506": {
          "model_module": "@jupyter-widgets/base",
          "model_module_version": "1.2.0",
          "model_name": "LayoutModel",
          "state": {
            "_model_module": "@jupyter-widgets/base",
            "_model_module_version": "1.2.0",
            "_model_name": "LayoutModel",
            "_view_count": null,
            "_view_module": "@jupyter-widgets/base",
            "_view_module_version": "1.2.0",
            "_view_name": "LayoutView",
            "align_content": null,
            "align_items": null,
            "align_self": null,
            "border": null,
            "bottom": null,
            "display": null,
            "flex": null,
            "flex_flow": null,
            "grid_area": null,
            "grid_auto_columns": null,
            "grid_auto_flow": null,
            "grid_auto_rows": null,
            "grid_column": null,
            "grid_gap": null,
            "grid_row": null,
            "grid_template_areas": null,
            "grid_template_columns": null,
            "grid_template_rows": null,
            "height": null,
            "justify_content": null,
            "justify_items": null,
            "left": null,
            "margin": null,
            "max_height": null,
            "max_width": null,
            "min_height": null,
            "min_width": null,
            "object_fit": null,
            "object_position": null,
            "order": null,
            "overflow": null,
            "overflow_x": null,
            "overflow_y": null,
            "padding": null,
            "right": null,
            "top": null,
            "visibility": null,
            "width": null
          }
        },
        "fc3603488fee40aba8cc94be67604253": {
          "model_module": "@jupyter-widgets/controls",
          "model_module_version": "1.5.0",
          "model_name": "HTMLModel",
          "state": {
            "_dom_classes": [],
            "_model_module": "@jupyter-widgets/controls",
            "_model_module_version": "1.5.0",
            "_model_name": "HTMLModel",
            "_view_count": null,
            "_view_module": "@jupyter-widgets/controls",
            "_view_module_version": "1.5.0",
            "_view_name": "HTMLView",
            "description": "",
            "description_tooltip": null,
            "layout": "IPY_MODEL_bddbff3fc1df45f98dc01f419c59f86a",
            "placeholder": "​",
            "style": "IPY_MODEL_8e7b0ee3ed5c4d22ba97dbb576c9b845",
            "value": " 50/50 [00:37&lt;00:00,  1.30it/s]"
          }
        },
        "fe0f06919d2c4ec88dd9d1fda7662585": {
          "model_module": "@jupyter-widgets/controls",
          "model_module_version": "1.5.0",
          "model_name": "HTMLModel",
          "state": {
            "_dom_classes": [],
            "_model_module": "@jupyter-widgets/controls",
            "_model_module_version": "1.5.0",
            "_model_name": "HTMLModel",
            "_view_count": null,
            "_view_module": "@jupyter-widgets/controls",
            "_view_module_version": "1.5.0",
            "_view_name": "HTMLView",
            "description": "",
            "description_tooltip": null,
            "layout": "IPY_MODEL_86b8f1c29222409fa0ed7b53d28bff48",
            "placeholder": "​",
            "style": "IPY_MODEL_f3f106d845d548219b95a4519d17bc05",
            "value": " 50/50 [00:17&lt;00:00,  2.80it/s]"
          }
        },
        "fe8d7ffb3dbe40cd855e3da566a43789": {
          "model_module": "@jupyter-widgets/base",
          "model_module_version": "1.2.0",
          "model_name": "LayoutModel",
          "state": {
            "_model_module": "@jupyter-widgets/base",
            "_model_module_version": "1.2.0",
            "_model_name": "LayoutModel",
            "_view_count": null,
            "_view_module": "@jupyter-widgets/base",
            "_view_module_version": "1.2.0",
            "_view_name": "LayoutView",
            "align_content": null,
            "align_items": null,
            "align_self": null,
            "border": null,
            "bottom": null,
            "display": null,
            "flex": null,
            "flex_flow": null,
            "grid_area": null,
            "grid_auto_columns": null,
            "grid_auto_flow": null,
            "grid_auto_rows": null,
            "grid_column": null,
            "grid_gap": null,
            "grid_row": null,
            "grid_template_areas": null,
            "grid_template_columns": null,
            "grid_template_rows": null,
            "height": null,
            "justify_content": null,
            "justify_items": null,
            "left": null,
            "margin": null,
            "max_height": null,
            "max_width": null,
            "min_height": null,
            "min_width": null,
            "object_fit": null,
            "object_position": null,
            "order": null,
            "overflow": null,
            "overflow_x": null,
            "overflow_y": null,
            "padding": null,
            "right": null,
            "top": null,
            "visibility": null,
            "width": null
          }
        },
        "fef54860f7924ad8bb7e464015a27b76": {
          "model_module": "@jupyter-widgets/controls",
          "model_module_version": "1.5.0",
          "model_name": "HBoxModel",
          "state": {
            "_dom_classes": [],
            "_model_module": "@jupyter-widgets/controls",
            "_model_module_version": "1.5.0",
            "_model_name": "HBoxModel",
            "_view_count": null,
            "_view_module": "@jupyter-widgets/controls",
            "_view_module_version": "1.5.0",
            "_view_name": "HBoxView",
            "box_style": "",
            "children": [
              "IPY_MODEL_d32af7284c77476f9d35710c329aa609",
              "IPY_MODEL_5c38b26a5e7f4fb58af1b2704657c415",
              "IPY_MODEL_fc3603488fee40aba8cc94be67604253"
            ],
            "layout": "IPY_MODEL_545a3c19d90e4427b7d4c044a3ae7e9a"
          }
        }
      }
    }
  },
  "nbformat": 4,
  "nbformat_minor": 0
}
